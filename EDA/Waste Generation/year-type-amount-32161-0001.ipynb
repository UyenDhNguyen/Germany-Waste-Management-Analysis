{
 "cells": [
  {
   "cell_type": "code",
   "execution_count": 1,
   "metadata": {},
   "outputs": [],
   "source": [
    "import pandas as pd \n",
    "import numpy as np\n",
    "import matplotlib.pyplot as plt "
   ]
  },
  {
   "cell_type": "code",
   "execution_count": 2,
   "metadata": {},
   "outputs": [
    {
     "data": {
      "text/html": [
       "<div>\n",
       "<style scoped>\n",
       "    .dataframe tbody tr th:only-of-type {\n",
       "        vertical-align: middle;\n",
       "    }\n",
       "\n",
       "    .dataframe tbody tr th {\n",
       "        vertical-align: top;\n",
       "    }\n",
       "\n",
       "    .dataframe thead th {\n",
       "        text-align: right;\n",
       "    }\n",
       "</style>\n",
       "<table border=\"1\" class=\"dataframe\">\n",
       "  <thead>\n",
       "    <tr style=\"text-align: right;\">\n",
       "      <th></th>\n",
       "      <th>Year</th>\n",
       "      <th>EAV Code</th>\n",
       "      <th>Waste Description</th>\n",
       "      <th>Number Of Companies</th>\n",
       "      <th>Amount Of Waste Generated (1000t)</th>\n",
       "    </tr>\n",
       "  </thead>\n",
       "  <tbody>\n",
       "    <tr>\n",
       "      <th>0</th>\n",
       "      <td>2010</td>\n",
       "      <td>EAV-01</td>\n",
       "      <td>waste from the extraction of mineral resources</td>\n",
       "      <td>NaN</td>\n",
       "      <td>NaN</td>\n",
       "    </tr>\n",
       "    <tr>\n",
       "      <th>1</th>\n",
       "      <td>2010</td>\n",
       "      <td>EAV-010101-U</td>\n",
       "      <td>Waste from mining v. metal-containing mineral ...</td>\n",
       "      <td>3.0</td>\n",
       "      <td>1.7</td>\n",
       "    </tr>\n",
       "    <tr>\n",
       "      <th>2</th>\n",
       "      <td>2010</td>\n",
       "      <td>EAV-010102-U</td>\n",
       "      <td>Waste from mining v. non-metal Mineral resources</td>\n",
       "      <td>3.0</td>\n",
       "      <td>13.7</td>\n",
       "    </tr>\n",
       "    <tr>\n",
       "      <th>3</th>\n",
       "      <td>2010</td>\n",
       "      <td>EAV-010304-G</td>\n",
       "      <td>Acid-forming processing residues a. sul. ore</td>\n",
       "      <td>NaN</td>\n",
       "      <td>NaN</td>\n",
       "    </tr>\n",
       "    <tr>\n",
       "      <th>4</th>\n",
       "      <td>2010</td>\n",
       "      <td>EAV-010305-G</td>\n",
       "      <td>Other processing residues with hazardous subst...</td>\n",
       "      <td>NaN</td>\n",
       "      <td>NaN</td>\n",
       "    </tr>\n",
       "  </tbody>\n",
       "</table>\n",
       "</div>"
      ],
      "text/plain": [
       "   Year      EAV Code                                  Waste Description  \\\n",
       "0  2010        EAV-01     waste from the extraction of mineral resources   \n",
       "1  2010  EAV-010101-U  Waste from mining v. metal-containing mineral ...   \n",
       "2  2010  EAV-010102-U   Waste from mining v. non-metal Mineral resources   \n",
       "3  2010  EAV-010304-G       Acid-forming processing residues a. sul. ore   \n",
       "4  2010  EAV-010305-G  Other processing residues with hazardous subst...   \n",
       "\n",
       "   Number Of Companies  Amount Of Waste Generated (1000t)  \n",
       "0                  NaN                                NaN  \n",
       "1                  3.0                                1.7  \n",
       "2                  3.0                               13.7  \n",
       "3                  NaN                                NaN  \n",
       "4                  NaN                                NaN  "
      ]
     },
     "execution_count": 2,
     "metadata": {},
     "output_type": "execute_result"
    }
   ],
   "source": [
    "df_32161_0001 = pd.read_csv(\"../../Data/Genesis_Destatis/Waste Generation/cleaned_32161-0001_Waste-Generation-year-type-amount.csv\")\n",
    "df_32161_0001.head()"
   ]
  }
 ],
 "metadata": {
  "kernelspec": {
   "display_name": "venv",
   "language": "python",
   "name": "python3"
  },
  "language_info": {
   "codemirror_mode": {
    "name": "ipython",
    "version": 3
   },
   "file_extension": ".py",
   "mimetype": "text/x-python",
   "name": "python",
   "nbconvert_exporter": "python",
   "pygments_lexer": "ipython3",
   "version": "3.10.9"
  },
  "orig_nbformat": 4
 },
 "nbformat": 4,
 "nbformat_minor": 2
}
