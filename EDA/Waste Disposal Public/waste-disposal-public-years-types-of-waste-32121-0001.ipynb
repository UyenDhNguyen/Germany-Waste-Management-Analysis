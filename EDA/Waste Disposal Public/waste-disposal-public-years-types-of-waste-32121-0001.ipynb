{
 "cells": [
  {
   "cell_type": "code",
   "execution_count": 1,
   "metadata": {},
   "outputs": [],
   "source": [
    "import pandas as pd\n",
    "import numpy as np\n",
    "import matplotlib.pyplot as plt\n",
    "import seaborn as sns\n",
    "\n",
    "sns.set_theme()"
   ]
  },
  {
   "cell_type": "code",
   "execution_count": 8,
   "metadata": {},
   "outputs": [
    {
     "name": "stdout",
     "output_type": "stream",
     "text": [
      "(342, 6)\n"
     ]
    },
    {
     "data": {
      "text/html": [
       "<div>\n",
       "<style scoped>\n",
       "    .dataframe tbody tr th:only-of-type {\n",
       "        vertical-align: middle;\n",
       "    }\n",
       "\n",
       "    .dataframe tbody tr th {\n",
       "        vertical-align: top;\n",
       "    }\n",
       "\n",
       "    .dataframe thead th {\n",
       "        text-align: right;\n",
       "    }\n",
       "</style>\n",
       "<table border=\"1\" class=\"dataframe\">\n",
       "  <thead>\n",
       "    <tr style=\"text-align: right;\">\n",
       "      <th></th>\n",
       "      <th>Year</th>\n",
       "      <th>Waste Type</th>\n",
       "      <th>Amount Of Household Waste (1000t)</th>\n",
       "      <th>Amount Of Household Waste Per Inhabitant (kg)</th>\n",
       "      <th>Household Waste Disposed By The First Recipient (1000t)</th>\n",
       "      <th>Household Waste Recycled By The First Recipient (1000t)</th>\n",
       "    </tr>\n",
       "  </thead>\n",
       "  <tbody>\n",
       "    <tr>\n",
       "      <th>0</th>\n",
       "      <td>2004</td>\n",
       "      <td>Household and bulky waste</td>\n",
       "      <td>17045.8</td>\n",
       "      <td>207.0</td>\n",
       "      <td>16049.6</td>\n",
       "      <td>996.2</td>\n",
       "    </tr>\n",
       "    <tr>\n",
       "      <th>1</th>\n",
       "      <td>2004</td>\n",
       "      <td>Household waste, commercial waste similar to h...</td>\n",
       "      <td>14452.4</td>\n",
       "      <td>175.0</td>\n",
       "      <td>14034.0</td>\n",
       "      <td>418.4</td>\n",
       "    </tr>\n",
       "    <tr>\n",
       "      <th>2</th>\n",
       "      <td>2004</td>\n",
       "      <td>Bulky waste</td>\n",
       "      <td>2593.4</td>\n",
       "      <td>31.0</td>\n",
       "      <td>2015.6</td>\n",
       "      <td>577.8</td>\n",
       "    </tr>\n",
       "    <tr>\n",
       "      <th>3</th>\n",
       "      <td>2004</td>\n",
       "      <td>Organic waste collected separately</td>\n",
       "      <td>8411.4</td>\n",
       "      <td>102.0</td>\n",
       "      <td>43.8</td>\n",
       "      <td>8367.6</td>\n",
       "    </tr>\n",
       "    <tr>\n",
       "      <th>4</th>\n",
       "      <td>2004</td>\n",
       "      <td>Waste from the bio bin</td>\n",
       "      <td>4121.1</td>\n",
       "      <td>50.0</td>\n",
       "      <td>13.4</td>\n",
       "      <td>4107.8</td>\n",
       "    </tr>\n",
       "  </tbody>\n",
       "</table>\n",
       "</div>"
      ],
      "text/plain": [
       "   Year                                         Waste Type  \\\n",
       "0  2004                          Household and bulky waste   \n",
       "1  2004  Household waste, commercial waste similar to h...   \n",
       "2  2004                                        Bulky waste   \n",
       "3  2004                 Organic waste collected separately   \n",
       "4  2004                             Waste from the bio bin   \n",
       "\n",
       "   Amount Of Household Waste (1000t)  \\\n",
       "0                            17045.8   \n",
       "1                            14452.4   \n",
       "2                             2593.4   \n",
       "3                             8411.4   \n",
       "4                             4121.1   \n",
       "\n",
       "   Amount Of Household Waste Per Inhabitant (kg)  \\\n",
       "0                                          207.0   \n",
       "1                                          175.0   \n",
       "2                                           31.0   \n",
       "3                                          102.0   \n",
       "4                                           50.0   \n",
       "\n",
       "   Household Waste Disposed By The First Recipient (1000t)  \\\n",
       "0                                            16049.6         \n",
       "1                                            14034.0         \n",
       "2                                             2015.6         \n",
       "3                                               43.8         \n",
       "4                                               13.4         \n",
       "\n",
       "   Household Waste Recycled By The First Recipient (1000t)  \n",
       "0                                              996.2        \n",
       "1                                              418.4        \n",
       "2                                              577.8        \n",
       "3                                             8367.6        \n",
       "4                                             4107.8        "
      ]
     },
     "execution_count": 8,
     "metadata": {},
     "output_type": "execute_result"
    }
   ],
   "source": [
    "filename = \"../../Data/Genesis_Destatis/Waste Disposal Public/cleaned_32121-0001_Waste-Disposal-Public-Waste Disposal-volume of waste-years-type of waste.csv\"\n",
    "df = pd.read_csv(filename)\n",
    "print(df.shape)\n",
    "df.head()"
   ]
  },
  {
   "cell_type": "code",
   "execution_count": 9,
   "metadata": {},
   "outputs": [
    {
     "data": {
      "text/plain": [
       "array([2004, 2005, 2006, 2007, 2008, 2009, 2010, 2011, 2012, 2013, 2014,\n",
       "       2015, 2016, 2017, 2018, 2019, 2020, 2021], dtype=int64)"
      ]
     },
     "execution_count": 9,
     "metadata": {},
     "output_type": "execute_result"
    }
   ],
   "source": [
    "df['Year'].unique()"
   ]
  },
  {
   "cell_type": "code",
   "execution_count": 10,
   "metadata": {},
   "outputs": [
    {
     "data": {
      "text/plain": [
       "array(['Household and bulky waste',\n",
       "       'Household waste, commercial waste similar to household waste',\n",
       "       'Bulky waste', 'Organic waste collected separately',\n",
       "       'Waste from the bio bin',\n",
       "       'Biodegradable waste (garden, park waste)',\n",
       "       'Separately collected recyclables', 'Glas',\n",
       "       'Mixed valuables/packaging (incl. light packaging), composites',\n",
       "       'Paper, Cardboard, Cardboard (PPK)', 'metals', 'Holz', 'Plastics',\n",
       "       'textiles', 'Waste electrical appliances', 'other waste',\n",
       "       'Other hazardous waste', 'Other non-hazardous waste', 'In total',\n",
       "       'Waste from the organic waste bin',\n",
       "       'Recyclable materials collected separately',\n",
       "       'Mixed value/packaging (incl. light packaging), composites',\n",
       "       'Other waste', 'Paper, cardboard, cardboard (PPK)'], dtype=object)"
      ]
     },
     "execution_count": 10,
     "metadata": {},
     "output_type": "execute_result"
    }
   ],
   "source": [
    "df['Waste Type'].unique()"
   ]
  },
  {
   "cell_type": "code",
   "execution_count": 11,
   "metadata": {},
   "outputs": [],
   "source": [
    "# Minor standardizing\n",
    "df['Year'] = df['Year'].astype(\"str\").astype(\"category\")\n",
    "df['Waste Type'] = df['Waste Type'].str.title()\n",
    "df['Waste Type'] = df['Waste Type'].astype(\"category\")"
   ]
  },
  {
   "cell_type": "code",
   "execution_count": 12,
   "metadata": {},
   "outputs": [
    {
     "name": "stdout",
     "output_type": "stream",
     "text": [
      "<class 'pandas.core.frame.DataFrame'>\n",
      "RangeIndex: 342 entries, 0 to 341\n",
      "Data columns (total 6 columns):\n",
      " #   Column                                                   Non-Null Count  Dtype   \n",
      "---  ------                                                   --------------  -----   \n",
      " 0   Year                                                     342 non-null    category\n",
      " 1   Waste Type                                               342 non-null    category\n",
      " 2   Amount Of Household Waste (1000t)                        326 non-null    float64 \n",
      " 3   Amount Of Household Waste Per Inhabitant (kg)            326 non-null    float64 \n",
      " 4   Household Waste Disposed By The First Recipient (1000t)  317 non-null    float64 \n",
      " 5   Household Waste Recycled By The First Recipient (1000t)  326 non-null    float64 \n",
      "dtypes: category(2), float64(4)\n",
      "memory usage: 12.9 KB\n"
     ]
    }
   ],
   "source": [
    "df.info()"
   ]
  },
  {
   "cell_type": "markdown",
   "metadata": {},
   "source": [
    "## HBar plot of KPI in a year for all waste type"
   ]
  },
  {
   "cell_type": "markdown",
   "metadata": {},
   "source": [
    "## Change in KPI through years for a waste type (lineplot)"
   ]
  },
  {
   "cell_type": "markdown",
   "metadata": {},
   "source": [
    "## Change in KPI through years for all waste type (hue=wastetype, lineplot)"
   ]
  },
  {
   "cell_type": "markdown",
   "metadata": {},
   "source": [
    "## Compare change in Household waste recycled and disposed through years for a waste type"
   ]
  },
  {
   "cell_type": "markdown",
   "metadata": {},
   "source": [
    "## Average KPIs by year"
   ]
  }
 ],
 "metadata": {
  "kernelspec": {
   "display_name": "venv",
   "language": "python",
   "name": "python3"
  },
  "language_info": {
   "codemirror_mode": {
    "name": "ipython",
    "version": 3
   },
   "file_extension": ".py",
   "mimetype": "text/x-python",
   "name": "python",
   "nbconvert_exporter": "python",
   "pygments_lexer": "ipython3",
   "version": "3.10.9"
  },
  "orig_nbformat": 4
 },
 "nbformat": 4,
 "nbformat_minor": 2
}
