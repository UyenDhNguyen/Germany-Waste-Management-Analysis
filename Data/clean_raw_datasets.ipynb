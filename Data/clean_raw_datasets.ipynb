{
 "cells": [
  {
   "cell_type": "code",
   "execution_count": 2,
   "metadata": {},
   "outputs": [],
   "source": [
    "import pandas as pd \n",
    "import numpy as np\n",
    "\n",
    "from googletrans import Translator\n",
    "\n",
    "translator = Translator()"
   ]
  },
  {
   "cell_type": "code",
   "execution_count": 12,
   "metadata": {},
   "outputs": [
    {
     "data": {
      "text/html": [
       "<div>\n",
       "<style scoped>\n",
       "    .dataframe tbody tr th:only-of-type {\n",
       "        vertical-align: middle;\n",
       "    }\n",
       "\n",
       "    .dataframe tbody tr th {\n",
       "        vertical-align: top;\n",
       "    }\n",
       "\n",
       "    .dataframe thead th {\n",
       "        text-align: right;\n",
       "    }\n",
       "</style>\n",
       "<table border=\"1\" class=\"dataframe\">\n",
       "  <thead>\n",
       "    <tr style=\"text-align: right;\">\n",
       "      <th></th>\n",
       "      <th>Unnamed: 0</th>\n",
       "      <th>Unnamed: 1</th>\n",
       "      <th>Anzahl</th>\n",
       "      <th>t</th>\n",
       "      <th>t.1</th>\n",
       "      <th>t.2</th>\n",
       "    </tr>\n",
       "  </thead>\n",
       "  <tbody>\n",
       "    <tr>\n",
       "      <th>0</th>\n",
       "      <td>2005</td>\n",
       "      <td>Baden-Württemberg</td>\n",
       "      <td>3307.0</td>\n",
       "      <td>952796.0</td>\n",
       "      <td>464080.0</td>\n",
       "      <td>1416876.0</td>\n",
       "    </tr>\n",
       "    <tr>\n",
       "      <th>1</th>\n",
       "      <td>2005</td>\n",
       "      <td>Bayern</td>\n",
       "      <td>4324.0</td>\n",
       "      <td>1709101.0</td>\n",
       "      <td>474278.0</td>\n",
       "      <td>2183379.0</td>\n",
       "    </tr>\n",
       "    <tr>\n",
       "      <th>2</th>\n",
       "      <td>2005</td>\n",
       "      <td>Berlin</td>\n",
       "      <td>609.0</td>\n",
       "      <td>208243.0</td>\n",
       "      <td>380287.0</td>\n",
       "      <td>588530.0</td>\n",
       "    </tr>\n",
       "    <tr>\n",
       "      <th>3</th>\n",
       "      <td>2005</td>\n",
       "      <td>Brandenburg</td>\n",
       "      <td>652.0</td>\n",
       "      <td>470360.0</td>\n",
       "      <td>289992.0</td>\n",
       "      <td>760352.0</td>\n",
       "    </tr>\n",
       "    <tr>\n",
       "      <th>4</th>\n",
       "      <td>2005</td>\n",
       "      <td>Bremen</td>\n",
       "      <td>310.0</td>\n",
       "      <td>99969.0</td>\n",
       "      <td>101004.0</td>\n",
       "      <td>200973.0</td>\n",
       "    </tr>\n",
       "  </tbody>\n",
       "</table>\n",
       "</div>"
      ],
      "text/plain": [
       "  Unnamed: 0         Unnamed: 1  Anzahl          t       t.1        t.2\n",
       "0       2005  Baden-Württemberg  3307.0   952796.0  464080.0  1416876.0\n",
       "1       2005             Bayern  4324.0  1709101.0  474278.0  2183379.0\n",
       "2       2005             Berlin   609.0   208243.0  380287.0   588530.0\n",
       "3       2005        Brandenburg   652.0   470360.0  289992.0   760352.0\n",
       "4       2005             Bremen   310.0    99969.0  101004.0   200973.0"
      ]
     },
     "execution_count": 12,
     "metadata": {},
     "output_type": "execute_result"
    }
   ],
   "source": [
    "filepath = \"raw datasets/Hazardous Waste/Hazardous Waste-amounts of waste-amount of waste given to disposal companies-states.csv\"\n",
    "df = pd.read_csv(\"raw datasets/Hazardous Waste/Hazardous Waste-amounts of waste-amount of waste given to disposal companies-states.csv\", skiprows=7, sep=\";\",\n",
    "                 encoding=\"latin-1\")\n",
    "df.head()"
   ]
  },
  {
   "cell_type": "code",
   "execution_count": null,
   "metadata": {},
   "outputs": [],
   "source": [
    "import csv\n",
    "with open(filepath, 'r') as f:\n",
    "    reader_obj = csv.reader(f)\n",
    "    for row in reader_obj:\n",
    "        print(row)\n",
    "        for text in row:\n",
    "            line = text.split(\";\")\n",
    "            for word in line:\n",
    "                translated_word = translator.translate(word).text\n",
    "                print(translated_word)"
   ]
  },
  {
   "cell_type": "code",
   "execution_count": 24,
   "metadata": {},
   "outputs": [
    {
     "name": "stdout",
     "output_type": "stream",
     "text": [
      "Producers of primarily proven waste quantities,;;;;;\n",
      "Amount of waste submitted for disposal (hazardous waste):;;;;;\n",
      "Federal states, years (until 2008);;;;;\n",
      "Collection of hazardous waste;;;;;\n",
      ";;Producer of primarily proven amounts of waste;Amount of waste handed over to disposal company;Amount of waste handed over to disposal company;Amount of waste handed over to disposal company\n",
      ";;;in your own federal state;in other federal states;total\n",
      ";;number;t;t;t\n"
     ]
    }
   ],
   "source": [
    "line1 = \"GENESIS-Tabelle: 32151-0005\"\n",
    "line2 = \"Erzeuger von prim�r nachgewiesenen Abfallmengen,;;;;;\"\n",
    "line3 = \"Abgegebene Abfallmenge an Entsorger (gef�hrliche Abf�lle):;;;;;\"\n",
    "line4 = \"Bundesl�nder, Jahre (bis 2008);;;;;\"\n",
    "line5 = \"Erhebung der gef�hrlichen Abf�lle;;;;;\"\n",
    "line6 = \";;Erzeuger von prim�r nachgewiesenen Abfallmengen;Abgegebene Abfallmenge an Entsorger;Abgegebene Abfallmenge an Entsorger;Abgegebene Abfallmenge an Entsorger\"\n",
    "line7 = \";;;im eigenen Bundesland;in anderen Bundesl�ndern;Insgesamt\"\n",
    "line8 = \";;Anzahl;t;t;t\"\n",
    "\n",
    "tline2 = translator.translate(line2).text\n",
    "tline3 = translator.translate(line3).text\n",
    "tline4 = translator.translate(line4).text\n",
    "tline5 = translator.translate(line5).text\n",
    "tline6 = translator.translate(line6).text\n",
    "tline7 = translator.translate(line7).text\n",
    "tline8 = translator.translate(line8).text\n",
    "print(tline2)\n",
    "print(tline3)\n",
    "print(tline4)\n",
    "print(tline5)\n",
    "print(tline6)\n",
    "print(tline7)\n",
    "print(tline8)"
   ]
  },
  {
   "cell_type": "code",
   "execution_count": 23,
   "metadata": {},
   "outputs": [
    {
     "name": "stdout",
     "output_type": "stream",
     "text": [
      "Producers of primarily verified amounts of waste,;;;;\n",
      "Amount of waste handed over to disposal (hazardous waste):;;;;\n",
      "Germany, years (until 2008);;;;\n",
      "Collection of hazardous waste;;;;\n",
      "Deutschland;;;;\n",
      ";Producer of primarily verified amounts of waste; Amount of waste handed over to disposal companies; Quantity of waste handed over to waste disposal companies; Amount of waste handed over to waste disposal companies\n",
      ";;in your own federal state;in other federal states;Overall\n",
      ";number;t;t;t\n"
     ]
    }
   ],
   "source": [
    "l2 = [\"Erzeuger von prim�r nachgewiesenen Abfallmengen,;;;;\",\n",
    "\"Abgegebene Abfallmenge an Entsorger (gef�hrliche Abf�lle):;;;;\",\n",
    "\"Deutschland, Jahre (bis 2008);;;;\",\n",
    "\"Erhebung der gef�hrlichen Abf�lle;;;;\",\n",
    "\"Deutschland;;;;\",\n",
    "\";Erzeuger von prim�r nachgewiesenen Abfallmengen;Abgegebene Abfallmenge an Entsorger;Abgegebene Abfallmenge an Entsorger;Abgegebene Abfallmenge an Entsorger\",\n",
    "\";;im eigenen Bundesland;in anderen Bundesl�ndern;Insgesamt\",\n",
    "\";Anzahl;t;t;t\"]\n",
    "for item in l2:\n",
    "    print(translator.translate(item).text)"
   ]
  },
  {
   "cell_type": "code",
   "execution_count": 26,
   "metadata": {},
   "outputs": [
    {
     "name": "stdout",
     "output_type": "stream",
     "text": [
      "GENESIS table: 32151-0003\n",
      "Waste producers, amounts of waste (hazardous waste):;;;;\n",
      "Federal states, years;;;;\n",
      "Survey of hazardous waste;;;;;;Waste producers;Waste quantities;Waste quantities generated by primary producers\n",
      ";;number;1000t;1000t\n"
     ]
    }
   ],
   "source": [
    "l3 = [\n",
    "    \"GENESIS-Tabelle: 32151-0003\",\n",
    "\"Abfallerzeuger, Abfallmengen (gef�hrliche Abf�lle):;;;;\",\n",
    "\"Bundesl�nder, Jahre;;;;\",\n",
    "\"Erhebung der gef�hrlichen Abf�lle;;;;\"\n",
    "\";;Abfallerzeuger;Abfallmengen;Abfallmengen, von Prim�rerzeugern erzeugt\",\n",
    "\";;Anzahl;1000 t;1000 t\"\n",
    "]\n",
    "for item in l3:\n",
    "    print(translator.translate(item).text)"
   ]
  },
  {
   "cell_type": "markdown",
   "metadata": {},
   "source": [
    "2006; Brandenburg; 787; 882,9; 699,7"
   ]
  },
  {
   "cell_type": "code",
   "execution_count": 27,
   "metadata": {},
   "outputs": [
    {
     "name": "stdout",
     "output_type": "stream",
     "text": [
      "Waste producers, amounts of waste (hazardous waste):;;;;;;;\n",
      "Germany, years, branches of industry, types of waste;;;;;;;\n",
      "(EAV 2-digit);;;;;;;\n",
      "Collection of hazardous waste;;;;;;;\n",
      "Deutschland;;;;;;;\n",
      ";;;;;Waste generators;Volumes of waste;Volumes of waste generated by primary producers\n",
      ";;;;;Number;1000t;1000t\n"
     ]
    }
   ],
   "source": [
    "l4 = [\n",
    "    \"Abfallerzeuger, Abfallmengen (gef�hrliche Abf�lle):;;;;;;;\",\n",
    "\"Deutschland, Jahre, Wirtschaftszweige, Abfallarten;;;;;;;\",\n",
    "\"(EAV 2-Steller);;;;;;;\",\n",
    "\"Erhebung der gef�hrlichen Abf�lle;;;;;;;\",\n",
    "\"Deutschland;;;;;;;\",\n",
    "\";;;;;Abfallerzeuger;Abfallmengen;Abfallmengen, von Prim�rerzeugern erzeugt\",\n",
    "\";;;;;Anzahl;1000 t;1000 t\"\n",
    "]\n",
    "for item in l4:\n",
    "    print(translator.translate(item).text)\n"
   ]
  },
  {
   "cell_type": "markdown",
   "metadata": {},
   "source": [
    "2008;WZ08-A;Land- und Forstwirtschaft, Fischerei;EAV-01;Abf�lle aus der Gewinnung von Bodensch�tzen;-;-;-"
   ]
  },
  {
   "cell_type": "code",
   "execution_count": 30,
   "metadata": {},
   "outputs": [
    {
     "data": {
      "text/plain": [
       "'2008;WZ08-A;Agriculture, forestry, fishing;EAV-01;Waste from the extraction of mineral resources;-;-;-'"
      ]
     },
     "execution_count": 30,
     "metadata": {},
     "output_type": "execute_result"
    }
   ],
   "source": [
    "translator.translate(\"2008;WZ08-A;Land- und Forstwirtschaft, Fischerei;EAV-01;Abf�lle aus der Gewinnung von Bodensch�tzen;-;-;-\").text"
   ]
  },
  {
   "cell_type": "code",
   "execution_count": 31,
   "metadata": {},
   "outputs": [
    {
     "data": {
      "text/plain": [
       "'2008;WZ08-A;Agriculture, forestry, fishing;EAV-04;Waste from the leather, fur and textile industries;-;-;-'"
      ]
     },
     "execution_count": 31,
     "metadata": {},
     "output_type": "execute_result"
    }
   ],
   "source": [
    "translator.translate(\"2008;WZ08-A;Land- und Forstwirtschaft, Fischerei;EAV-04;Abf�lle aus der Leder-, Pelz- und Textilindustrie;-;-;-\").text"
   ]
  },
  {
   "cell_type": "code",
   "execution_count": 32,
   "metadata": {},
   "outputs": [
    {
     "data": {
      "text/plain": [
       "'2008;WZ08-B;Mining and extraction of stones and earth;EAV-01;Waste from the extraction of mineral resources;12;130.3;130.3'"
      ]
     },
     "execution_count": 32,
     "metadata": {},
     "output_type": "execute_result"
    }
   ],
   "source": [
    "translator.translate(\"2008;WZ08-B;Bergbau und Gewinnung von Steinen und Erden;EAV-01;Abf�lle aus der Gewinnung von Bodensch�tzen;12;130,3;130,3\").text"
   ]
  },
  {
   "cell_type": "code",
   "execution_count": 33,
   "metadata": {},
   "outputs": [
    {
     "name": "stdout",
     "output_type": "stream",
     "text": [
      "Waste producers, waste quantities (hazardous waste):;;;;;\n",
      "Germany, years, waste types (EAV 2 and 6 digits);;;;;\n",
      "Collection of hazardous waste;;;;;\n",
      "Deutschland;;;;;\n",
      ";;;Waste producers;quantities of waste;quantities of waste generated by primary producers\n",
      ";;;number;1000t;1000t\n"
     ]
    }
   ],
   "source": [
    "l5 = [\n",
    "    \"Abfallerzeuger, Abfallmengen (gef�hrliche Abf�lle):;;;;;\",\n",
    "\"Deutschland, Jahre, Abfallarten (EAV 2- und 6-Steller);;;;;\",\n",
    "\"Erhebung der gef�hrlichen Abf�lle;;;;;\",\n",
    "\"Deutschland;;;;;\",\n",
    "\";;;Abfallerzeuger;Abfallmengen;Abfallmengen, von Prim�rerzeugern erzeugt\",\n",
    "\";;;Anzahl;1000 t;1000 t\"\n",
    "]\n",
    "for item in l5:\n",
    "    print(translator.translate(item).text)"
   ]
  },
  {
   "cell_type": "markdown",
   "metadata": {},
   "source": [
    "2006;EAV-01;Abf�lle aus der Gewinnung von Bodensch�tzen;26;140,6;139,5"
   ]
  },
  {
   "cell_type": "code",
   "execution_count": 34,
   "metadata": {},
   "outputs": [
    {
     "data": {
      "text/plain": [
       "'2006;EAV-01;Waste from the extraction of minerals;26;140.6;139.5'"
      ]
     },
     "execution_count": 34,
     "metadata": {},
     "output_type": "execute_result"
    }
   ],
   "source": [
    "translator.translate(\"2006;EAV-01;Abf�lle aus der Gewinnung von Bodensch�tzen;26;140,6;139,5\").text"
   ]
  },
  {
   "cell_type": "code",
   "execution_count": 2,
   "metadata": {},
   "outputs": [
    {
     "name": "stdout",
     "output_type": "stream",
     "text": [
      "Companies, amount of waste produced: federal states, years;;;\n",
      "Waste generation survey;;;\n",
      ";;Companies;Amount of waste generated\n",
      ";;Number;1000 t\n"
     ]
    }
   ],
   "source": [
    "wg_l1 = [\n",
    "\"Betriebe, erzeugte Abfallmenge: Bundesl�nder, Jahre;;;\",\n",
    "\"Erhebung �ber die Abfallerzeugung;;;\",\n",
    "\";;Betriebe;Erzeugte Abfallmenge\",\n",
    "\";;Anzahl;1000 t\"\n",
    "]\n",
    "for item in wg_l1:\n",
    "    print(translator.translate(item).text)"
   ]
  },
  {
   "cell_type": "code",
   "execution_count": 3,
   "metadata": {},
   "outputs": [
    {
     "name": "stdout",
     "output_type": "stream",
     "text": [
      "Companies, amount of waste produced, employees, degree of coverage;;;;;;;\n",
      "of companies, coverage of employees: Germany,;;;;;;;\n",
      "years, economic sectors;;;;;;;\n",
      "Survey on waste generation;;;;;;;\n",
      "Deutschland;;;;;;;\n",
      ";;;Companies;Amount of waste generated;Employees;Degree of coverage of companies;Degree of coverage of employees\n",
      ";;;number;1000 t;1000;percent;percent\n"
     ]
    }
   ],
   "source": [
    "wg_l2 = [\n",
    "    \"Betriebe, erzeugte Abfallmenge, Besch�ftigte, Erfassungsgrad;;;;;;;\",\n",
    "\"der Betriebe, Erfassungsgrad der Besch�ftigten: Deutschland,;;;;;;;\",\n",
    "\"Jahre, Wirtschaftszweige;;;;;;;\",\n",
    "\"Erhebung �ber die Abfallerzeugung;;;;;;;\",\n",
    "\"Deutschland;;;;;;;\",\n",
    "\";;;Betriebe;Erzeugte Abfallmenge;Besch�ftigte;Erfassungsgrad der Betriebe;Erfassungsgrad der Besch�ftigten\",\n",
    "\";;;Anzahl;1000 t;1000;Prozent;Prozent\"\n",
    "]\n",
    "for item in wg_l2:\n",
    "    print(translator.translate(item).text)"
   ]
  },
  {
   "cell_type": "code",
   "execution_count": 7,
   "metadata": {},
   "outputs": [
    {
     "name": "stdout",
     "output_type": "stream",
     "text": [
      "Companies, amount of waste generated: Germany, years,;;;;;;\n",
      "Economic sectors, types of waste;;;;;;\n",
      "Survey on waste generation;;;;;;\n",
      "Deutschland;;;;;;\n",
      ";;;;;Companies;Amount of waste generated\n",
      ";;;;;Number;1000 t\n"
     ]
    }
   ],
   "source": [
    "wg_l3 = [\n",
    "\"Betriebe, erzeugte Abfallmenge: Deutschland, Jahre,;;;;;;\",\n",
    "\"Wirtschaftszweige, Abfallarten;;;;;;\",\n",
    "\"Erhebung �ber die Abfallerzeugung;;;;;;\",\n",
    "\"Deutschland;;;;;;\",\n",
    "\";;;;;Betriebe;Erzeugte Abfallmenge\",\n",
    "\";;;;;Anzahl;1000 t\"\n",
    "]\n",
    "for item in wg_l3:\n",
    "    print(translator.translate(item).text)"
   ]
  },
  {
   "cell_type": "code",
   "execution_count": 5,
   "metadata": {},
   "outputs": [
    {
     "data": {
      "text/plain": [
       "'2006;EAV-01;Waste from the extraction of minerals;26;140.6;139.5'"
      ]
     },
     "execution_count": 5,
     "metadata": {},
     "output_type": "execute_result"
    }
   ],
   "source": [
    "translator.translate(\"2006;EAV-01;Abf�lle aus der Gewinnung von Bodensch�tzen;26;140,6;139,5\").text"
   ]
  },
  {
   "cell_type": "code",
   "execution_count": 8,
   "metadata": {},
   "outputs": [
    {
     "name": "stdout",
     "output_type": "stream",
     "text": [
      "Companies, amount of waste generated: Germany, years,;;;;\n",
      "Types of waste;;;;\n",
      "Waste generation survey;;;;\n",
      "Deutschland;;;;\n",
      ";;;Companies;Amount of waste generated\n",
      ";;;Number;1000 t\n"
     ]
    }
   ],
   "source": [
    "wg_l4 = [\n",
    "    \"Betriebe, erzeugte Abfallmenge: Deutschland, Jahre,;;;;\",\n",
    "\"Abfallarten;;;;\",\n",
    "\"Erhebung �ber die Abfallerzeugung;;;;\",\n",
    "\"Deutschland;;;;\",\n",
    "\";;;Betriebe;Erzeugte Abfallmenge\",\n",
    "\";;;Anzahl;1000 t\"\n",
    "]\n",
    "for item in wg_l4:\n",
    "    print(translator.translate(item).text)"
   ]
  },
  {
   "cell_type": "code",
   "execution_count": 9,
   "metadata": {},
   "outputs": [
    {
     "data": {
      "text/plain": [
       "'2010;EAV-010505-G; Oily drilling mud and waste;8;72.2'"
      ]
     },
     "execution_count": 9,
     "metadata": {},
     "output_type": "execute_result"
    }
   ],
   "source": [
    "translator.translate(\"2010;EAV-010505-G;  �lhaltige Bohrschl�mme und -abf�lle;8;72,2\").text"
   ]
  },
  {
   "cell_type": "markdown",
   "metadata": {},
   "source": [
    "# Waste Processing Facilities"
   ]
  },
  {
   "cell_type": "markdown",
   "metadata": {},
   "source": [
    "## Asphalt Mixing Plants"
   ]
  },
  {
   "cell_type": "code",
   "execution_count": 2,
   "metadata": {},
   "outputs": [
    {
     "name": "stdout",
     "output_type": "stream",
     "text": [
      "GENESIS table: 32141-0003\n",
      "Asphalt mixing plants: Germany, years, types of waste;;;;\n",
      "Processing, utilization of. construction and. demolition waste;;;;\n",
      "Deutschland;;;;\n",
      ";;;Asphalt mixing plants;Input of asphalt mixing plants\n",
      ";;;Number;1000 t\n"
     ]
    }
   ],
   "source": [
    "wp_l1 = [\n",
    "    \"GENESIS-Tabelle: 32141-0003\",\n",
    "    \"Asphaltmischanlagen: Deutschland, Jahre, Abfallarten;;;;\",\n",
    "    \"Aufbereitung,Verwertung v. Bau- u. Abbruchabf�llen;;;;\",\n",
    "    \"Deutschland;;;;\",\n",
    "    \";;;Asphaltmischanlagen;Input von Asphaltmischanlagen\",\n",
    "    \";;;Anzahl;1000 t\"\n",
    "]\n",
    "for item in wp_l1:\n",
    "    print(translator.translate(item).text)"
   ]
  },
  {
   "cell_type": "code",
   "execution_count": 4,
   "metadata": {},
   "outputs": [
    {
     "data": {
      "text/plain": [
       "'2006;EAV-05;Waste from petroleum refining, natural gas purification;-;-'"
      ]
     },
     "execution_count": 4,
     "metadata": {},
     "output_type": "execute_result"
    }
   ],
   "source": [
    "translator.translate(\"2006;EAV-05;Abf�lle aus der Erd�lraffination, Erdgasreinigung;-;-\").text"
   ]
  },
  {
   "cell_type": "code",
   "execution_count": 3,
   "metadata": {},
   "outputs": [
    {
     "data": {
      "text/plain": [
       "'2006;EAV-19120904-U; Products for use in asphalt mixing plants;175;3617.6'"
      ]
     },
     "execution_count": 3,
     "metadata": {},
     "output_type": "execute_result"
    }
   ],
   "source": [
    "translator.translate(\"2006;EAV-19120904-U;  Erzeugnisse f�r Verwendung in Asphaltmischanlagen;175;3617,6\").text"
   ]
  },
  {
   "cell_type": "markdown",
   "metadata": {},
   "source": [
    "## Building Rubble Processing Plants"
   ]
  },
  {
   "cell_type": "code",
   "execution_count": 5,
   "metadata": {},
   "outputs": [
    {
     "name": "stdout",
     "output_type": "stream",
     "text": [
      "GENESIS table: 32141-0002\n",
      "Building rubble processing plants: Germany, years,;;;;;;\n",
      "types of waste;;;;;;\n",
      "Processing, utilization of. construction and. demolition waste;;;;;;\n",
      "Deutschland;;;;;;\n",
      ";;;Construction rubble processing plants;Input of construction rubble processing plants;Construction rubble processing plants with output;Output of construction rubble processing plants\n",
      ";;;number;1000 t;number;1000 t\n"
     ]
    }
   ],
   "source": [
    "wp_l2 = [\n",
    "    \"GENESIS-Tabelle: 32141-0002\",\n",
    "\"Bauschuttaufbereitungsanlagen: Deutschland, Jahre,;;;;;;\",\n",
    "\"Abfallarten;;;;;;\",\n",
    "\"Aufbereitung,Verwertung v. Bau- u. Abbruchabf�llen;;;;;;\",\n",
    "\"Deutschland;;;;;;\",\n",
    "\";;;Bauschuttaufbereitungsanlagen;Input von Bauschuttaufbereitungsanlagen;Bauschuttaufbereitungsanlagen mit Output;Output von Bauschuttaufbereitungsanlagen\",\n",
    "\";;;Anzahl;1000 t;Anzahl;1000 t\"\n",
    "]\n",
    "for item in wp_l2:\n",
    "    print(translator.translate(item).text)"
   ]
  },
  {
   "cell_type": "code",
   "execution_count": 6,
   "metadata": {},
   "outputs": [
    {
     "data": {
      "text/plain": [
       "'2006;EAV-12;Waste from mechanical shaping processes;4;4.9;-;-'"
      ]
     },
     "execution_count": 6,
     "metadata": {},
     "output_type": "execute_result"
    }
   ],
   "source": [
    "translator.translate(\"2006;EAV-12;Abf�lle aus Prozessen der mechanischen Formgebung;4;4,9;-;-\").text"
   ]
  },
  {
   "cell_type": "code",
   "execution_count": 7,
   "metadata": {},
   "outputs": [
    {
     "name": "stdout",
     "output_type": "stream",
     "text": [
      "GENESIS table: 32141-0004\n",
      "Rubble processing plants, asphalt mixing plants:;;;;;;;;\n",
      "Federal states, years;;;;;;;;\n",
      "Processing, utilization of. construction and. demolition waste;;;;;;;;\n",
      ";;Rubbish processing plants;Input of rubble processing plants;Capacity of rubble processing plants;Rubbish processing plants with output;Output of rubble processing plants;Asphalt mixing plants;Input of asphalt mixing plants\n",
      ";;number;1000 t;1000 t;number;1000 t;number;1000 t\n"
     ]
    }
   ],
   "source": [
    "wp_l3 = [\n",
    "    \"GENESIS-Tabelle: 32141-0004\",\n",
    "\"Bauschuttaufbereitungsanlagen, Asphaltmischanlagen:;;;;;;;;\",\n",
    "\"Bundesl�nder, Jahre;;;;;;;;\",\n",
    "\"Aufbereitung,Verwertung v. Bau- u. Abbruchabf�llen;;;;;;;;\",\n",
    "\";;Bauschuttaufbereitungsanlagen;Input von Bauschuttaufbereitungsanlagen;Kapazit�t von Bauschuttaufbereitungsanlagen;Bauschuttaufbereitungsanlagen mit Output;Output von Bauschuttaufbereitungsanlagen;Asphaltmischanlagen;Input von Asphaltmischanlagen\",\n",
    "\";;Anzahl;1000 t;1000 t;Anzahl;1000 t;Anzahl;1000 t\"\n",
    "]\n",
    "for item in wp_l3:\n",
    "    print(translator.translate(item).text)"
   ]
  },
  {
   "cell_type": "code",
   "execution_count": 8,
   "metadata": {},
   "outputs": [
    {
     "data": {
      "text/plain": [
       "'2010;Brandenburg;128;4466,1;11502,0;x;4223,8;33;353,7'"
      ]
     },
     "execution_count": 8,
     "metadata": {},
     "output_type": "execute_result"
    }
   ],
   "source": [
    "translator.translate(\"2010;Brandenburg;128;4466,1;11502,0;x;4223,8;33;353,7\").text"
   ]
  },
  {
   "cell_type": "code",
   "execution_count": 9,
   "metadata": {},
   "outputs": [
    {
     "name": "stdout",
     "output_type": "stream",
     "text": [
      "GENESIS table: 32141-0001\n",
      "Rubble processing plants, asphalt mixing plants:;;;;;;;;\n",
      "Germany, years, type of system;;;;;;;;\n",
      "Processing, utilization of. construction and. demolition waste;;;;;;;;\n",
      "Deutschland;;;;;;;;\n",
      ";;Rubbish processing plants;Input of rubble processing plants;Capacity of rubble processing plants;Rubbish processing plants with output;Output of rubble processing plants;Asphalt mixing plants;Input of asphalt mixing plants\n",
      ";;number;1000 t;1000 t;number;1000 t;number;1000 t\n"
     ]
    }
   ],
   "source": [
    "wp_l4 = [\n",
    "    \"GENESIS-Tabelle: 32141-0001\",\n",
    "\"Bauschuttaufbereitungsanlagen, Asphaltmischanlagen:;;;;;;;;\",\n",
    "\"Deutschland, Jahre, Anlagenart;;;;;;;;\",\n",
    "\"Aufbereitung,Verwertung v. Bau- u. Abbruchabf�llen;;;;;;;;\",\n",
    "\"Deutschland;;;;;;;;\",\n",
    "\";;Bauschuttaufbereitungsanlagen;Input von Bauschuttaufbereitungsanlagen;Kapazit�t von Bauschuttaufbereitungsanlagen;Bauschuttaufbereitungsanlagen mit Output;Output von Bauschuttaufbereitungsanlagen;Asphaltmischanlagen;Input von Asphaltmischanlagen\",\n",
    "\";;Anzahl;1000 t;1000 t;Anzahl;1000 t;Anzahl;1000 t\"\n",
    "]\n",
    "for item in wp_l4:\n",
    "    print(translator.translate(item).text)"
   ]
  },
  {
   "cell_type": "code",
   "execution_count": 10,
   "metadata": {},
   "outputs": [
    {
     "data": {
      "text/plain": [
       "'2016;Stationary and semi-mobile systems;813;30785.9;70965.0;x;29720.8;503;13914.8'"
      ]
     },
     "execution_count": 10,
     "metadata": {},
     "output_type": "execute_result"
    }
   ],
   "source": [
    "translator.translate(\"2016;Station�re und semimobile Anlagen;813;30785,9;70965,0;x;29720,8;503;13914,8\").text"
   ]
  },
  {
   "cell_type": "code",
   "execution_count": 12,
   "metadata": {},
   "outputs": [
    {
     "data": {
      "text/plain": [
       "'Mobile systems'"
      ]
     },
     "execution_count": 12,
     "metadata": {},
     "output_type": "execute_result"
    }
   ],
   "source": [
    "translator.translate(\"Mobile Anlagen\").text"
   ]
  },
  {
   "cell_type": "markdown",
   "metadata": {},
   "source": [
    "# Waste Collection & Transport & Packing"
   ]
  },
  {
   "cell_type": "code",
   "execution_count": 3,
   "metadata": {},
   "outputs": [
    {
     "name": "stdout",
     "output_type": "stream",
     "text": [
      "GENESIS table: 32131-0003\n",
      "Collected transport and outer packaging: Federal states,;;;;\n",
      "Years, whereabouts of the packaging;;;;\n",
      "Eth. i.e. collection from. Transport and outer packaging;;;;\n",
      "Collected transport and outer packaging (1000 t);;;;\n",
      ";;Whereabouts of the packaging;Whereabouts of the packaging;Whereabouts of the packaging\n",
      ";;Sorting systems (in-house and third-party);Recycling companies (including waste materials trading);Total\n"
     ]
    }
   ],
   "source": [
    "wc_l1 = [\n",
    "    \"GENESIS-Tabelle: 32131-0003\",\n",
    "\"Eingesammelte Transport- und Umverpackungen: Bundesl�nder,;;;;\",\n",
    "\"Jahre, Verbleib der Verpackungen;;;;\",\n",
    "\"Erh. d. Einsammlung v. Transport- u.Umverpackungen;;;;\",\n",
    "\"Eingesammelte Transport- und Umverpackungen (1000 t);;;;\",\n",
    "\";;Verbleib der Verpackungen;Verbleib der Verpackungen;Verbleib der Verpackungen\",\n",
    "\";;Sortieranlagen (betriebseigene und -fremde);Verwerterbetriebe (einschlie�lich Altstoffhandel);Insgesamt\"\n",
    "]\n",
    "for item in wc_l1:\n",
    "    print(translator.translate(item).text)"
   ]
  },
  {
   "cell_type": "code",
   "execution_count": 4,
   "metadata": {},
   "outputs": [
    {
     "data": {
      "text/plain": [
       "'2001;Baden-W�rttemberg;265,4;310,5;575,9'"
      ]
     },
     "execution_count": 4,
     "metadata": {},
     "output_type": "execute_result"
    }
   ],
   "source": [
    "translator.translate(\"2001;Baden-W�rttemberg;265,4;310,5;575,9\").text"
   ]
  },
  {
   "cell_type": "code",
   "execution_count": 5,
   "metadata": {},
   "outputs": [
    {
     "name": "stdout",
     "output_type": "stream",
     "text": [
      "GENESIS table: 32131-0002\n",
      "Collected transport and outer packaging: Germany,;;;;\n",
      "Years, whereabouts of the packaging, types of packaging;;;;\n",
      "Eth. d. collection from. Transport and outer packaging;;;;\n",
      "Deutschland;;;;\n",
      "Collected transport and outer packaging (1000 t);;;;\n",
      ";;Whereabouts of the packaging;Whereabouts of the packaging;Whereabouts of the packaging\n",
      ";;Sorting systems (in-house and third-party);Recycling companies (including waste materials trading);Total\n"
     ]
    }
   ],
   "source": [
    "wc_l2 = [\n",
    "    \"GENESIS-Tabelle: 32131-0002\",\n",
    "\"Eingesammelte Transport- und Umverpackungen: Deutschland,;;;;\",\n",
    "\"Jahre, Verbleib der Verpackungen, Verpackungsarten;;;;\",\n",
    "\"Erh. d. Einsammlung v. Transport- u.Umverpackungen;;;;\",\n",
    "\"Deutschland;;;;\",\n",
    "\"Eingesammelte Transport- und Umverpackungen (1000 t);;;;\",\n",
    "\";;Verbleib der Verpackungen;Verbleib der Verpackungen;Verbleib der Verpackungen\",\n",
    "\";;Sortieranlagen (betriebseigene und -fremde);Verwerterbetriebe (einschlie�lich Altstoffhandel);Insgesamt\"\n",
    "]\n",
    "for item in wc_l2:\n",
    "    print(translator.translate(item).text)"
   ]
  },
  {
   "cell_type": "code",
   "execution_count": 6,
   "metadata": {},
   "outputs": [
    {
     "data": {
      "text/plain": [
       "'2001; Packaging for harmful substances filled with glass; 22.8; 55.7; 78.5'"
      ]
     },
     "execution_count": 6,
     "metadata": {},
     "output_type": "execute_result"
    }
   ],
   "source": [
    "translator.translate(\"2001;Verpack.f.n.schadstoffh.F�llg�ter aus Glas;22,8;55,7;78,5\").text"
   ]
  },
  {
   "cell_type": "code",
   "execution_count": 7,
   "metadata": {},
   "outputs": [
    {
     "name": "stdout",
     "output_type": "stream",
     "text": [
      "GENESIS table: 32131-0001\n",
      "Collected transport and outer packaging, collector:;;\n",
      "Germany, years;;\n",
      "Eth. d. collection from. Transport and outer packaging;;\n",
      "Deutschland;;\n",
      ";Collected transport and outer packaging;Collectors\n",
      ";1000 t;number\n"
     ]
    }
   ],
   "source": [
    "wc_l3 = [\n",
    "    \"GENESIS-Tabelle: 32131-0001\",\n",
    "\"Eingesammelte Transport- und Umverpackungen, Einsammler:;;\",\n",
    "\"Deutschland, Jahre;;\",\n",
    "\"Erh. d. Einsammlung v. Transport- u.Umverpackungen;;\",\n",
    "\"Deutschland;;\",\n",
    "\";Eingesammelte Transport- und Umverpackungen;Einsammler\",\n",
    "\";1000 t;Anzahl\"\n",
    "]\n",
    "for item in wc_l3:\n",
    "    print(translator.translate(item).text)"
   ]
  },
  {
   "cell_type": "markdown",
   "metadata": {},
   "source": [
    "# Waste Disposal Public"
   ]
  },
  {
   "cell_type": "code",
   "execution_count": 8,
   "metadata": {},
   "outputs": [
    {
     "name": "stdout",
     "output_type": "stream",
     "text": [
      "GENESIS table: 32121-0002\n",
      "Household waste generation: federal states, years;;;;;\n",
      "Survey of public law. Waste disposal;;;;;\n",
      ";;Amount of household waste;Amount of household waste per inhabitant;Household waste disposed of by the first recipient;Household waste recycled by the first recipient\n",
      ";;1000 t;kg;1000 t;1000 t\n"
     ]
    }
   ],
   "source": [
    "wdp_l1 = [\n",
    "    \"GENESIS-Tabelle: 32121-0002\",\n",
    "\"Aufkommen an Haushaltsabf�llen: Bundesl�nder, Jahre;;;;;\",\n",
    "\"Erhebung der �ffentlich-rechtl. Abfallentsorgung;;;;;\",\n",
    "\";;Aufkommen an Haushaltsabf�llen;Aufkommen an Haushaltsabf�llen je Einwohner;Beim Erstempf�nger beseitigte Haushaltsabf�lle;Beim Erstempf�nger verwertete Haushaltsabf�lle\",\n",
    "\";;1000 t;kg;1000 t;1000 t\"\n",
    "]\n",
    "for item in wdp_l1:\n",
    "    print(translator.translate(item).text)"
   ]
  },
  {
   "cell_type": "code",
   "execution_count": 9,
   "metadata": {},
   "outputs": [
    {
     "name": "stdout",
     "output_type": "stream",
     "text": [
      "GENESIS table: 32121-0003\n",
      "Household waste generation: federal states, years,;;;;\n",
      "Types of waste;;;;\n",
      "Survey of public law. Waste disposal;;;;\n",
      ";;;Amount of household waste;Amount of household waste per inhabitant\n",
      ";;;1000 t;kg\n"
     ]
    }
   ],
   "source": [
    "wdp_l2 = [\n",
    "    \"GENESIS-Tabelle: 32121-0003\",\n",
    "\"Aufkommen an Haushaltsabf�llen: Bundesl�nder, Jahre,;;;;\",\n",
    "\"Abfallarten;;;;\",\n",
    "\"Erhebung der �ffentlich-rechtl. Abfallentsorgung;;;;\",\n",
    "\";;;Aufkommen an Haushaltsabf�llen;Aufkommen an Haushaltsabf�llen je Einwohner\",\n",
    "\";;;1000 t;kg\"\n",
    "]\n",
    "for item in wdp_l2:\n",
    "    print(translator.translate(item).text)"
   ]
  },
  {
   "cell_type": "code",
   "execution_count": 10,
   "metadata": {},
   "outputs": [
    {
     "name": "stdout",
     "output_type": "stream",
     "text": [
      "GENESIS table: 32121-0001\n",
      "Volume of household waste: Germany, years,;;;;;\n",
      "types of waste;;;;;\n",
      "Survey of public law. Waste disposal;;;;;\n",
      "Germany as a whole: Germany;;;;;\n",
      ";;Amount of household waste;Amount of household waste per inhabitant;Household waste disposed of by the first recipient;Household waste recycled by the first recipient\n",
      ";;1000 t;kg;1000 t;1000 t\n"
     ]
    }
   ],
   "source": [
    "wdp_l3 = [\n",
    "    \"GENESIS-Tabelle: 32121-0001\",\n",
    "\"Aufkommen an Haushaltsabf�llen: Deutschland, Jahre,;;;;;\",\n",
    "\"Abfallarten;;;;;\",\n",
    "\"Erhebung der �ffentlich-rechtl. Abfallentsorgung;;;;;\",\n",
    "\"Deutschland insgesamt: Deutschland;;;;;\",\n",
    "\";;Aufkommen an Haushaltsabf�llen;Aufkommen an Haushaltsabf�llen je Einwohner;Beim Erstempf�nger beseitigte Haushaltsabf�lle;Beim Erstempf�nger verwertete Haushaltsabf�lle\",\n",
    "\";;1000 t;kg;1000 t;1000 t\"\n",
    "]\n",
    "for item in wdp_l3:\n",
    "    print(translator.translate(item).text)"
   ]
  }
 ],
 "metadata": {
  "kernelspec": {
   "display_name": "venv",
   "language": "python",
   "name": "python3"
  },
  "language_info": {
   "codemirror_mode": {
    "name": "ipython",
    "version": 3
   },
   "file_extension": ".py",
   "mimetype": "text/x-python",
   "name": "python",
   "nbconvert_exporter": "python",
   "pygments_lexer": "ipython3",
   "version": "3.10.9"
  },
  "orig_nbformat": 4
 },
 "nbformat": 4,
 "nbformat_minor": 2
}
