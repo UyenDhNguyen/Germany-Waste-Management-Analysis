{
 "cells": [
  {
   "cell_type": "code",
   "execution_count": 1,
   "metadata": {},
   "outputs": [],
   "source": [
    "import pandas as pd \n",
    "import numpy as np\n",
    "\n",
    "from googletrans import Translator\n",
    "\n",
    "translator = Translator()\n",
    "\n",
    "def to_float(x):\n",
    "    if type(x) == str and \",\" in x:\n",
    "        x = x.replace(\",\", \".\")\n",
    "        return float(x)\n",
    "    return x"
   ]
  },
  {
   "cell_type": "markdown",
   "metadata": {},
   "source": [
    "## Waste Generation-establishments-amount-federal states.csv\n",
    "Table: 32161-0004\n",
    "Columns: Year, State, Number Of Companies, Amount Of Waste Generated (1000t)\n",
    "Read Lines: 6 - 53\n",
    "To Translate: None"
   ]
  },
  {
   "cell_type": "code",
   "execution_count": 2,
   "metadata": {},
   "outputs": [
    {
     "data": {
      "text/plain": [
       "['Year', 'State', 'Number Of Companies', 'Amount Of Waste Generated (1000t)']"
      ]
     },
     "execution_count": 2,
     "metadata": {},
     "output_type": "execute_result"
    }
   ],
   "source": [
    "column_names = \"Year, State, Number Of Companies, Amount Of Waste Generated (1000t)\"\n",
    "column_names = column_names.split(\", \")\n",
    "column_names"
   ]
  },
  {
   "cell_type": "code",
   "execution_count": 3,
   "metadata": {},
   "outputs": [
    {
     "data": {
      "text/html": [
       "<div>\n",
       "<style scoped>\n",
       "    .dataframe tbody tr th:only-of-type {\n",
       "        vertical-align: middle;\n",
       "    }\n",
       "\n",
       "    .dataframe tbody tr th {\n",
       "        vertical-align: top;\n",
       "    }\n",
       "\n",
       "    .dataframe thead th {\n",
       "        text-align: right;\n",
       "    }\n",
       "</style>\n",
       "<table border=\"1\" class=\"dataframe\">\n",
       "  <thead>\n",
       "    <tr style=\"text-align: right;\">\n",
       "      <th></th>\n",
       "      <th>Year</th>\n",
       "      <th>State</th>\n",
       "      <th>Number Of Companies</th>\n",
       "      <th>Amount Of Waste Generated (1000t)</th>\n",
       "    </tr>\n",
       "  </thead>\n",
       "  <tbody>\n",
       "    <tr>\n",
       "      <th>0</th>\n",
       "      <td>2010</td>\n",
       "      <td>Baden-Württemberg</td>\n",
       "      <td>3471</td>\n",
       "      <td>7251,4</td>\n",
       "    </tr>\n",
       "    <tr>\n",
       "      <th>1</th>\n",
       "      <td>2010</td>\n",
       "      <td>Bayern</td>\n",
       "      <td>3280</td>\n",
       "      <td>8768,5</td>\n",
       "    </tr>\n",
       "    <tr>\n",
       "      <th>2</th>\n",
       "      <td>2010</td>\n",
       "      <td>Berlin</td>\n",
       "      <td>474</td>\n",
       "      <td>1682,6</td>\n",
       "    </tr>\n",
       "    <tr>\n",
       "      <th>3</th>\n",
       "      <td>2010</td>\n",
       "      <td>Brandenburg</td>\n",
       "      <td>429</td>\n",
       "      <td>2765,1</td>\n",
       "    </tr>\n",
       "    <tr>\n",
       "      <th>4</th>\n",
       "      <td>2010</td>\n",
       "      <td>Bremen</td>\n",
       "      <td>139</td>\n",
       "      <td>358,1</td>\n",
       "    </tr>\n",
       "  </tbody>\n",
       "</table>\n",
       "</div>"
      ],
      "text/plain": [
       "   Year              State  Number Of Companies  \\\n",
       "0  2010  Baden-Württemberg                 3471   \n",
       "1  2010             Bayern                 3280   \n",
       "2  2010             Berlin                  474   \n",
       "3  2010        Brandenburg                  429   \n",
       "4  2010             Bremen                  139   \n",
       "\n",
       "  Amount Of Waste Generated (1000t)  \n",
       "0                            7251,4  \n",
       "1                            8768,5  \n",
       "2                            1682,6  \n",
       "3                            2765,1  \n",
       "4                             358,1  "
      ]
     },
     "execution_count": 3,
     "metadata": {},
     "output_type": "execute_result"
    }
   ],
   "source": [
    "filename1 = \"Waste Generation-establishments-amount-federal states.csv\"\n",
    "waste_df1 = pd.read_csv(filename1, sep=\";\", encoding=\"latin-1\", header=None, skiprows=5, nrows=53-5, names=column_names)\n",
    "waste_df1.head()"
   ]
  },
  {
   "cell_type": "code",
   "execution_count": 8,
   "metadata": {},
   "outputs": [
    {
     "name": "stdout",
     "output_type": "stream",
     "text": [
      "<class 'pandas.core.frame.DataFrame'>\n",
      "RangeIndex: 48 entries, 0 to 47\n",
      "Data columns (total 4 columns):\n",
      " #   Column                             Non-Null Count  Dtype  \n",
      "---  ------                             --------------  -----  \n",
      " 0   Year                               48 non-null     int64  \n",
      " 1   State                              48 non-null     object \n",
      " 2   Number Of Companies                48 non-null     int64  \n",
      " 3   Amount Of Waste Generated (1000t)  48 non-null     float64\n",
      "dtypes: float64(1), int64(2), object(1)\n",
      "memory usage: 1.6+ KB\n"
     ]
    }
   ],
   "source": [
    "waste_df1.info()"
   ]
  },
  {
   "cell_type": "code",
   "execution_count": 6,
   "metadata": {},
   "outputs": [],
   "source": [
    "waste_df1['State'] = waste_df1['State'].apply(lambda x: translator.translate(x).text)"
   ]
  },
  {
   "cell_type": "code",
   "execution_count": 7,
   "metadata": {},
   "outputs": [],
   "source": [
    "waste_df1['Amount Of Waste Generated (1000t)'] = waste_df1['Amount Of Waste Generated (1000t)'].apply(lambda x: to_float(x))"
   ]
  },
  {
   "cell_type": "code",
   "execution_count": 9,
   "metadata": {},
   "outputs": [],
   "source": [
    "waste_df1.to_csv(\"cleaned_32161-0004_Waste-Generation-establishments-amount-federal-states.csv\", index=False)"
   ]
  },
  {
   "cell_type": "markdown",
   "metadata": {},
   "source": [
    "## Waste Generation-firms-amount-employees-degree.csv\n",
    "Table: 32161-0003\n",
    "Columns: Year, Industry Code, Industry, Number Of Companies, Amount Of Waste Generated (1000t), Number Of Employees (1000), Degree Of Coverage Of Companies (%), Degree of coverage of employees (%)\n",
    "Read Lines: 9 - 50\n",
    "To Translate: Industry"
   ]
  },
  {
   "cell_type": "code",
   "execution_count": 8,
   "metadata": {},
   "outputs": [
    {
     "data": {
      "text/plain": [
       "['Year',\n",
       " 'Industry Code',\n",
       " 'Industry',\n",
       " 'Number Of Companies',\n",
       " 'Amount Of Waste Generated (1000t)',\n",
       " 'Number Of Employees (1000)',\n",
       " 'Degree Of Coverage Of Companies (%)',\n",
       " 'Degree of coverage of employees (%)']"
      ]
     },
     "execution_count": 8,
     "metadata": {},
     "output_type": "execute_result"
    }
   ],
   "source": [
    "column_names = \"Year, Industry Code, Industry, Number Of Companies, Amount Of Waste Generated (1000t), Number Of Employees (1000), Degree Of Coverage Of Companies (%), Degree of coverage of employees (%)\"\n",
    "column_names = column_names.split(\", \")\n",
    "column_names"
   ]
  },
  {
   "cell_type": "code",
   "execution_count": 9,
   "metadata": {},
   "outputs": [
    {
     "data": {
      "text/html": [
       "<div>\n",
       "<style scoped>\n",
       "    .dataframe tbody tr th:only-of-type {\n",
       "        vertical-align: middle;\n",
       "    }\n",
       "\n",
       "    .dataframe tbody tr th {\n",
       "        vertical-align: top;\n",
       "    }\n",
       "\n",
       "    .dataframe thead th {\n",
       "        text-align: right;\n",
       "    }\n",
       "</style>\n",
       "<table border=\"1\" class=\"dataframe\">\n",
       "  <thead>\n",
       "    <tr style=\"text-align: right;\">\n",
       "      <th></th>\n",
       "      <th>Year</th>\n",
       "      <th>Industry Code</th>\n",
       "      <th>Industry</th>\n",
       "      <th>Number Of Companies</th>\n",
       "      <th>Amount Of Waste Generated (1000t)</th>\n",
       "      <th>Number Of Employees (1000)</th>\n",
       "      <th>Degree Of Coverage Of Companies (%)</th>\n",
       "      <th>Degree of coverage of employees (%)</th>\n",
       "    </tr>\n",
       "  </thead>\n",
       "  <tbody>\n",
       "    <tr>\n",
       "      <th>0</th>\n",
       "      <td>2010</td>\n",
       "      <td>WZ08-01-03</td>\n",
       "      <td>Land- und Forstwirtschaft, Fischerei</td>\n",
       "      <td>55</td>\n",
       "      <td>39,6</td>\n",
       "      <td>8,3</td>\n",
       "      <td>0,1</td>\n",
       "      <td>4,4</td>\n",
       "    </tr>\n",
       "    <tr>\n",
       "      <th>1</th>\n",
       "      <td>2010</td>\n",
       "      <td>WZ08-05-02</td>\n",
       "      <td>Bergbau und Gewinnung von Steinen und Erden</td>\n",
       "      <td>64</td>\n",
       "      <td>1569,7</td>\n",
       "      <td>51,1</td>\n",
       "      <td>2,1</td>\n",
       "      <td>62,0</td>\n",
       "    </tr>\n",
       "    <tr>\n",
       "      <th>2</th>\n",
       "      <td>2010</td>\n",
       "      <td>WZ08-10-01</td>\n",
       "      <td>Ernährungsgewerbe und Tabakverarbeitung</td>\n",
       "      <td>1439</td>\n",
       "      <td>6963,2</td>\n",
       "      <td>367,4</td>\n",
       "      <td>4,2</td>\n",
       "      <td>54,4</td>\n",
       "    </tr>\n",
       "    <tr>\n",
       "      <th>3</th>\n",
       "      <td>2010</td>\n",
       "      <td>WZ08-13-03</td>\n",
       "      <td>Textil- und Bekleidungsgewerbe, Ledergewerbe</td>\n",
       "      <td>645</td>\n",
       "      <td>232,8</td>\n",
       "      <td>95,3</td>\n",
       "      <td>7,0</td>\n",
       "      <td>69,1</td>\n",
       "    </tr>\n",
       "    <tr>\n",
       "      <th>4</th>\n",
       "      <td>2010</td>\n",
       "      <td>WZ08-16</td>\n",
       "      <td>H.v. Holz-, Flecht-, Korb-u.Korkwaren (ohne Mö...</td>\n",
       "      <td>401</td>\n",
       "      <td>3635,4</td>\n",
       "      <td>56,2</td>\n",
       "      <td>2,9</td>\n",
       "      <td>47,4</td>\n",
       "    </tr>\n",
       "  </tbody>\n",
       "</table>\n",
       "</div>"
      ],
      "text/plain": [
       "   Year Industry Code                                           Industry  \\\n",
       "0  2010    WZ08-01-03               Land- und Forstwirtschaft, Fischerei   \n",
       "1  2010    WZ08-05-02        Bergbau und Gewinnung von Steinen und Erden   \n",
       "2  2010    WZ08-10-01            Ernährungsgewerbe und Tabakverarbeitung   \n",
       "3  2010    WZ08-13-03       Textil- und Bekleidungsgewerbe, Ledergewerbe   \n",
       "4  2010       WZ08-16  H.v. Holz-, Flecht-, Korb-u.Korkwaren (ohne Mö...   \n",
       "\n",
       "   Number Of Companies Amount Of Waste Generated (1000t)  \\\n",
       "0                   55                              39,6   \n",
       "1                   64                            1569,7   \n",
       "2                 1439                            6963,2   \n",
       "3                  645                             232,8   \n",
       "4                  401                            3635,4   \n",
       "\n",
       "  Number Of Employees (1000) Degree Of Coverage Of Companies (%)  \\\n",
       "0                        8,3                                 0,1   \n",
       "1                       51,1                                 2,1   \n",
       "2                      367,4                                 4,2   \n",
       "3                       95,3                                 7,0   \n",
       "4                       56,2                                 2,9   \n",
       "\n",
       "  Degree of coverage of employees (%)  \n",
       "0                                 4,4  \n",
       "1                                62,0  \n",
       "2                                54,4  \n",
       "3                                69,1  \n",
       "4                                47,4  "
      ]
     },
     "execution_count": 9,
     "metadata": {},
     "output_type": "execute_result"
    }
   ],
   "source": [
    "filename2 = \"Waste Generation-firms-amount-employees-degree.csv\"\n",
    "waste_df2 = pd.read_csv(filename2, sep=\";\", encoding=\"latin-1\", header=None, skiprows=8, nrows=50-8, names=column_names)\n",
    "waste_df2.head()"
   ]
  },
  {
   "cell_type": "code",
   "execution_count": 12,
   "metadata": {},
   "outputs": [
    {
     "name": "stdout",
     "output_type": "stream",
     "text": [
      "<class 'pandas.core.frame.DataFrame'>\n",
      "RangeIndex: 42 entries, 0 to 41\n",
      "Data columns (total 8 columns):\n",
      " #   Column                               Non-Null Count  Dtype  \n",
      "---  ------                               --------------  -----  \n",
      " 0   Year                                 42 non-null     int64  \n",
      " 1   Industry Code                        42 non-null     object \n",
      " 2   Industry                             42 non-null     object \n",
      " 3   Number Of Companies                  42 non-null     int64  \n",
      " 4   Amount Of Waste Generated (1000t)    42 non-null     float64\n",
      " 5   Number Of Employees (1000)           42 non-null     float64\n",
      " 6   Degree Of Coverage Of Companies (%)  42 non-null     float64\n",
      " 7   Degree of coverage of employees (%)  42 non-null     float64\n",
      "dtypes: float64(4), int64(2), object(2)\n",
      "memory usage: 2.8+ KB\n"
     ]
    }
   ],
   "source": [
    "waste_df2.info()"
   ]
  },
  {
   "cell_type": "code",
   "execution_count": 11,
   "metadata": {},
   "outputs": [],
   "source": [
    "for col in column_names[4:]:\n",
    "    waste_df2[col] = waste_df2[col].apply(lambda x: to_float(x))"
   ]
  },
  {
   "cell_type": "code",
   "execution_count": 13,
   "metadata": {},
   "outputs": [],
   "source": [
    "waste_df2['Industry'] = waste_df2['Industry'].apply(lambda x: translator.translate(x).text)\n",
    "waste_df2.to_csv(\"cleaned_32161-0003_Waste-Generation-firms-amount-employees-degree.csv\", index=False)"
   ]
  },
  {
   "cell_type": "markdown",
   "metadata": {},
   "source": [
    "## Waste Generation-sector-type-amount.csv\n",
    "Table: 32161-0002\n",
    "Columns: Year, Sector Code, Economic Sector, EAV Code, Waste Description, Number Of Companies, Amount Of Waste Generated (1000t)\n",
    "Read Lines: 8 - 931\n",
    "To Translate: Waste Description, Economic Sector"
   ]
  },
  {
   "cell_type": "code",
   "execution_count": 16,
   "metadata": {},
   "outputs": [
    {
     "data": {
      "text/plain": [
       "['Year',\n",
       " 'Sector Code',\n",
       " 'Economic Sector',\n",
       " 'EAV Code',\n",
       " 'Waste Description',\n",
       " 'Number Of Companies',\n",
       " 'Amount Of Waste Generated (1000t)']"
      ]
     },
     "execution_count": 16,
     "metadata": {},
     "output_type": "execute_result"
    }
   ],
   "source": [
    "column_names = \"Year, Sector Code, Economic Sector, EAV Code, Waste Description, Number Of Companies, Amount Of Waste Generated (1000t)\"\n",
    "column_names = column_names.split(\", \")\n",
    "column_names"
   ]
  },
  {
   "cell_type": "code",
   "execution_count": 17,
   "metadata": {},
   "outputs": [
    {
     "data": {
      "text/html": [
       "<div>\n",
       "<style scoped>\n",
       "    .dataframe tbody tr th:only-of-type {\n",
       "        vertical-align: middle;\n",
       "    }\n",
       "\n",
       "    .dataframe tbody tr th {\n",
       "        vertical-align: top;\n",
       "    }\n",
       "\n",
       "    .dataframe thead th {\n",
       "        text-align: right;\n",
       "    }\n",
       "</style>\n",
       "<table border=\"1\" class=\"dataframe\">\n",
       "  <thead>\n",
       "    <tr style=\"text-align: right;\">\n",
       "      <th></th>\n",
       "      <th>Year</th>\n",
       "      <th>Sector Code</th>\n",
       "      <th>Economic Sector</th>\n",
       "      <th>EAV Code</th>\n",
       "      <th>Waste Description</th>\n",
       "      <th>Number Of Companies</th>\n",
       "      <th>Amount Of Waste Generated (1000t)</th>\n",
       "    </tr>\n",
       "  </thead>\n",
       "  <tbody>\n",
       "    <tr>\n",
       "      <th>0</th>\n",
       "      <td>2010</td>\n",
       "      <td>WZ08-01-03</td>\n",
       "      <td>Land- und Forstwirtschaft, Fischerei</td>\n",
       "      <td>EAV-01</td>\n",
       "      <td>Abfälle aus der Gewinnung von Bodenschätzen</td>\n",
       "      <td>NaN</td>\n",
       "      <td>NaN</td>\n",
       "    </tr>\n",
       "    <tr>\n",
       "      <th>1</th>\n",
       "      <td>2010</td>\n",
       "      <td>WZ08-01-03</td>\n",
       "      <td>Land- und Forstwirtschaft, Fischerei</td>\n",
       "      <td>EAV-02</td>\n",
       "      <td>Abfälle aus Landwirtschaft, Forstwirtschaft u.a.</td>\n",
       "      <td>24.0</td>\n",
       "      <td>16,4</td>\n",
       "    </tr>\n",
       "    <tr>\n",
       "      <th>2</th>\n",
       "      <td>2010</td>\n",
       "      <td>WZ08-01-03</td>\n",
       "      <td>Land- und Forstwirtschaft, Fischerei</td>\n",
       "      <td>EAV-03</td>\n",
       "      <td>Abfälle aus der Holzbearbeitung u.a.</td>\n",
       "      <td>NaN</td>\n",
       "      <td>NaN</td>\n",
       "    </tr>\n",
       "    <tr>\n",
       "      <th>3</th>\n",
       "      <td>2010</td>\n",
       "      <td>WZ08-01-03</td>\n",
       "      <td>Land- und Forstwirtschaft, Fischerei</td>\n",
       "      <td>EAV-04</td>\n",
       "      <td>Abfälle aus der Leder-, Pelz- und Textilindustrie</td>\n",
       "      <td>NaN</td>\n",
       "      <td>NaN</td>\n",
       "    </tr>\n",
       "    <tr>\n",
       "      <th>4</th>\n",
       "      <td>2010</td>\n",
       "      <td>WZ08-01-03</td>\n",
       "      <td>Land- und Forstwirtschaft, Fischerei</td>\n",
       "      <td>EAV-05</td>\n",
       "      <td>Abfälle aus der Erdölraffination, Erdgasreinigung</td>\n",
       "      <td>NaN</td>\n",
       "      <td>NaN</td>\n",
       "    </tr>\n",
       "  </tbody>\n",
       "</table>\n",
       "</div>"
      ],
      "text/plain": [
       "   Year Sector Code                       Economic Sector EAV Code  \\\n",
       "0  2010  WZ08-01-03  Land- und Forstwirtschaft, Fischerei   EAV-01   \n",
       "1  2010  WZ08-01-03  Land- und Forstwirtschaft, Fischerei   EAV-02   \n",
       "2  2010  WZ08-01-03  Land- und Forstwirtschaft, Fischerei   EAV-03   \n",
       "3  2010  WZ08-01-03  Land- und Forstwirtschaft, Fischerei   EAV-04   \n",
       "4  2010  WZ08-01-03  Land- und Forstwirtschaft, Fischerei   EAV-05   \n",
       "\n",
       "                                   Waste Description  Number Of Companies  \\\n",
       "0        Abfälle aus der Gewinnung von Bodenschätzen                  NaN   \n",
       "1   Abfälle aus Landwirtschaft, Forstwirtschaft u.a.                 24.0   \n",
       "2               Abfälle aus der Holzbearbeitung u.a.                  NaN   \n",
       "3  Abfälle aus der Leder-, Pelz- und Textilindustrie                  NaN   \n",
       "4  Abfälle aus der Erdölraffination, Erdgasreinigung                  NaN   \n",
       "\n",
       "  Amount Of Waste Generated (1000t)  \n",
       "0                               NaN  \n",
       "1                              16,4  \n",
       "2                               NaN  \n",
       "3                               NaN  \n",
       "4                               NaN  "
      ]
     },
     "execution_count": 17,
     "metadata": {},
     "output_type": "execute_result"
    }
   ],
   "source": [
    "filename3 = \"Waste Generation-sector-type-amount.csv\"\n",
    "waste_df3 = pd.read_csv(filename3, sep=\";\", encoding=\"latin-1\", header=None, names=column_names, skiprows=7, nrows=931-7, na_values=\"-\")\n",
    "waste_df3.head()"
   ]
  },
  {
   "cell_type": "code",
   "execution_count": 25,
   "metadata": {},
   "outputs": [],
   "source": [
    "waste_df3['Amount Of Waste Generated (1000t)'] = waste_df3['Amount Of Waste Generated (1000t)'].apply(lambda x: to_float(x))"
   ]
  },
  {
   "cell_type": "code",
   "execution_count": 21,
   "metadata": {},
   "outputs": [],
   "source": [
    "econ_sectors = waste_df3['Economic Sector'].unique()\n",
    "econ_sectors_en = [translator.translate(x).text for x in econ_sectors]\n",
    "econ_sectors_mapping = dict(zip(list(econ_sectors), econ_sectors_en))\n",
    "waste_df3['Economic Sector'] = waste_df3['Economic Sector'].apply(lambda x: econ_sectors_mapping[x])\n",
    "waste_df3['Economic Sector'] = waste_df3['Economic Sector'].str.title()"
   ]
  },
  {
   "cell_type": "code",
   "execution_count": 20,
   "metadata": {},
   "outputs": [],
   "source": [
    "waste_df3['Waste Description'] = waste_df3['Waste Description'].apply(lambda x: translator.translate(x).text)\n",
    "waste_df3.to_csv(\"cleaned_32161-0002_Waste Generation-sector-type-amount.csv\", index=False)"
   ]
  },
  {
   "cell_type": "code",
   "execution_count": 27,
   "metadata": {},
   "outputs": [
    {
     "name": "stdout",
     "output_type": "stream",
     "text": [
      "<class 'pandas.core.frame.DataFrame'>\n",
      "RangeIndex: 924 entries, 0 to 923\n",
      "Data columns (total 7 columns):\n",
      " #   Column                             Non-Null Count  Dtype  \n",
      "---  ------                             --------------  -----  \n",
      " 0   Year                               924 non-null    int64  \n",
      " 1   Sector Code                        924 non-null    object \n",
      " 2   Economic Sector                    924 non-null    object \n",
      " 3   EAV Code                           882 non-null    object \n",
      " 4   Waste Description                  924 non-null    object \n",
      " 5   Number Of Companies                784 non-null    float64\n",
      " 6   Amount Of Waste Generated (1000t)  784 non-null    float64\n",
      "dtypes: float64(2), int64(1), object(4)\n",
      "memory usage: 50.7+ KB\n"
     ]
    }
   ],
   "source": [
    "waste_df3.info()"
   ]
  },
  {
   "cell_type": "code",
   "execution_count": 29,
   "metadata": {},
   "outputs": [],
   "source": [
    "waste_df3.to_csv(\"cleaned_32161-0002_Waste Generation-sector-type-amount.csv\", index=False)"
   ]
  },
  {
   "cell_type": "markdown",
   "metadata": {},
   "source": [
    "## Waste Generation-year-type-amount.csv\n",
    "Table: 32161-0001\n",
    "Columns: Year, EAV Code, Waste Description, Number Of Companies, Amount Of Waste Generated (1000t)\n",
    "Read Lines: 8 - 2737\n",
    "To Translate: Waste Description"
   ]
  },
  {
   "cell_type": "code",
   "execution_count": 30,
   "metadata": {},
   "outputs": [
    {
     "data": {
      "text/plain": [
       "['Year',\n",
       " 'EAV Code',\n",
       " 'Waste Description',\n",
       " 'Number Of Companies',\n",
       " 'Amount Of Waste Generated (1000t)']"
      ]
     },
     "execution_count": 30,
     "metadata": {},
     "output_type": "execute_result"
    }
   ],
   "source": [
    "column_names = \"Year, EAV Code, Waste Description, Number Of Companies, Amount Of Waste Generated (1000t)\"\n",
    "column_names = column_names.split(\", \")\n",
    "column_names"
   ]
  },
  {
   "cell_type": "code",
   "execution_count": 31,
   "metadata": {},
   "outputs": [
    {
     "data": {
      "text/html": [
       "<div>\n",
       "<style scoped>\n",
       "    .dataframe tbody tr th:only-of-type {\n",
       "        vertical-align: middle;\n",
       "    }\n",
       "\n",
       "    .dataframe tbody tr th {\n",
       "        vertical-align: top;\n",
       "    }\n",
       "\n",
       "    .dataframe thead th {\n",
       "        text-align: right;\n",
       "    }\n",
       "</style>\n",
       "<table border=\"1\" class=\"dataframe\">\n",
       "  <thead>\n",
       "    <tr style=\"text-align: right;\">\n",
       "      <th></th>\n",
       "      <th>Year</th>\n",
       "      <th>EAV Code</th>\n",
       "      <th>Waste Description</th>\n",
       "      <th>Number Of Companies</th>\n",
       "      <th>Amount Of Waste Generated (1000t)</th>\n",
       "    </tr>\n",
       "  </thead>\n",
       "  <tbody>\n",
       "    <tr>\n",
       "      <th>2725</th>\n",
       "      <td>2018</td>\n",
       "      <td>EAV-200307-U</td>\n",
       "      <td>Sperrmüll</td>\n",
       "      <td>2296.0</td>\n",
       "      <td>51,1</td>\n",
       "    </tr>\n",
       "    <tr>\n",
       "      <th>2726</th>\n",
       "      <td>2018</td>\n",
       "      <td>EAV-200399-U</td>\n",
       "      <td>Siedlungsabfälle a.n.g.</td>\n",
       "      <td>91.0</td>\n",
       "      <td>4,5</td>\n",
       "    </tr>\n",
       "    <tr>\n",
       "      <th>2727</th>\n",
       "      <td>2018</td>\n",
       "      <td>EAV-99</td>\n",
       "      <td>Gefährliche Abfälle</td>\n",
       "      <td>NaN</td>\n",
       "      <td>NaN</td>\n",
       "    </tr>\n",
       "    <tr>\n",
       "      <th>2728</th>\n",
       "      <td>2018</td>\n",
       "      <td>EAV-990000-G</td>\n",
       "      <td>Gefährliche Abfälle insgesamt</td>\n",
       "      <td>NaN</td>\n",
       "      <td>NaN</td>\n",
       "    </tr>\n",
       "    <tr>\n",
       "      <th>2729</th>\n",
       "      <td>2018</td>\n",
       "      <td>NaN</td>\n",
       "      <td>Insgesamt</td>\n",
       "      <td>19945.0</td>\n",
       "      <td>67916,3</td>\n",
       "    </tr>\n",
       "  </tbody>\n",
       "</table>\n",
       "</div>"
      ],
      "text/plain": [
       "      Year      EAV Code                Waste Description  \\\n",
       "2725  2018  EAV-200307-U                        Sperrmüll   \n",
       "2726  2018  EAV-200399-U          Siedlungsabfälle a.n.g.   \n",
       "2727  2018        EAV-99              Gefährliche Abfälle   \n",
       "2728  2018  EAV-990000-G    Gefährliche Abfälle insgesamt   \n",
       "2729  2018           NaN                        Insgesamt   \n",
       "\n",
       "      Number Of Companies Amount Of Waste Generated (1000t)  \n",
       "2725               2296.0                              51,1  \n",
       "2726                 91.0                               4,5  \n",
       "2727                  NaN                               NaN  \n",
       "2728                  NaN                               NaN  \n",
       "2729              19945.0                           67916,3  "
      ]
     },
     "execution_count": 31,
     "metadata": {},
     "output_type": "execute_result"
    }
   ],
   "source": [
    "filename4 = \"Waste Generation-year-type-amount.csv\"\n",
    "waste_df4 = pd.read_csv(filename4, sep=\";\", encoding=\"latin-1\", header=None, names=column_names, skiprows=7, nrows=2737-7, na_values=\"-\")\n",
    "waste_df4.tail()"
   ]
  },
  {
   "cell_type": "code",
   "execution_count": 33,
   "metadata": {},
   "outputs": [],
   "source": [
    "waste_df4['Amount Of Waste Generated (1000t)'] = waste_df4['Amount Of Waste Generated (1000t)'].apply(lambda x: to_float(x))\n"
   ]
  },
  {
   "cell_type": "code",
   "execution_count": 35,
   "metadata": {},
   "outputs": [],
   "source": [
    "waste_df4['Waste Description'] = waste_df4['Waste Description'].apply(lambda x: translator.translate(x).text)"
   ]
  },
  {
   "cell_type": "code",
   "execution_count": 36,
   "metadata": {},
   "outputs": [
    {
     "name": "stdout",
     "output_type": "stream",
     "text": [
      "<class 'pandas.core.frame.DataFrame'>\n",
      "RangeIndex: 2730 entries, 0 to 2729\n",
      "Data columns (total 5 columns):\n",
      " #   Column                             Non-Null Count  Dtype  \n",
      "---  ------                             --------------  -----  \n",
      " 0   Year                               2730 non-null   int64  \n",
      " 1   EAV Code                           2727 non-null   object \n",
      " 2   Waste Description                  2730 non-null   object \n",
      " 3   Number Of Companies                2075 non-null   float64\n",
      " 4   Amount Of Waste Generated (1000t)  2075 non-null   float64\n",
      "dtypes: float64(2), int64(1), object(2)\n",
      "memory usage: 106.8+ KB\n"
     ]
    }
   ],
   "source": [
    "waste_df4.info()"
   ]
  },
  {
   "cell_type": "code",
   "execution_count": 38,
   "metadata": {},
   "outputs": [],
   "source": [
    "waste_df4.to_csv(\"cleaned_32161-0001_Waste-Generation-year-type-amount.csv\", index=False)"
   ]
  }
 ],
 "metadata": {
  "kernelspec": {
   "display_name": "venv",
   "language": "python",
   "name": "python3"
  },
  "language_info": {
   "codemirror_mode": {
    "name": "ipython",
    "version": 3
   },
   "file_extension": ".py",
   "mimetype": "text/x-python",
   "name": "python",
   "nbconvert_exporter": "python",
   "pygments_lexer": "ipython3",
   "version": "3.10.9"
  },
  "orig_nbformat": 4
 },
 "nbformat": 4,
 "nbformat_minor": 2
}
