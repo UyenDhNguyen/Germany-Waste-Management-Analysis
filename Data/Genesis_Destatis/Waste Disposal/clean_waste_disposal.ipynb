{
 "cells": [
  {
   "cell_type": "code",
   "execution_count": null,
   "metadata": {},
   "outputs": [],
   "source": [
    "import pandas as pd \n",
    "import numpy as np\n",
    "from googletrans import Translator\n",
    "\n",
    "translator = Translator()\n",
    "\n",
    "def to_float(x):\n",
    "    if type(x) == str and \",\" in x:\n",
    "        x = x.replace(\",\", \".\")\n",
    "        return float(x)\n",
    "    elif type(x) == str and x.isnumeric():\n",
    "        return eval(x)\n",
    "    return x"
   ]
  },
  {
   "cell_type": "code",
   "execution_count": null,
   "metadata": {},
   "outputs": [],
   "source": [
    "d1 = {\n",
    "    \"filename\": \"Waste Disposal-State-Year-Facility Type.csv\",\n",
    "    \"Table\": \"32111-0011\",\n",
    "    \"Columns\": \"Waste disposal facilities, Input from waste disposal facilities (1000t), Waste produced in-house (1000t), \\\n",
    "        Waste supplied from within Germany (1000t), Waste supplied from abroad (1000t), \\\n",
    "            Waste disposal facilities with output, Output from waste disposal facilities (1000t), Waste for disposal (1000t), \\\n",
    "                Waste for recycling (1000t), Waste All procedures to be prepared (1000t), Handover to other (1000t)\",\n",
    "    \"Read Lines\": [6, 3845],\n",
    "    \"To Translate\": None,\n",
    "    \"NA\": [\"-\",\"x\", \".\"],\n",
    "    \"to_numeric\": 0\n",
    "}"
   ]
  }
 ],
 "metadata": {
  "kernelspec": {
   "display_name": "venv",
   "language": "python",
   "name": "python3"
  },
  "language_info": {
   "name": "python",
   "version": "3.10.9"
  },
  "orig_nbformat": 4
 },
 "nbformat": 4,
 "nbformat_minor": 2
}
