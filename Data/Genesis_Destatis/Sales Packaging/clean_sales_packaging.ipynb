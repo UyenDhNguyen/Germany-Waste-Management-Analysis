{
 "cells": [
  {
   "cell_type": "code",
   "execution_count": 1,
   "metadata": {},
   "outputs": [],
   "source": [
    "import pandas as pd \n",
    "import numpy as np\n",
    "\n",
    "from googletrans import Translator\n",
    "translator = Translator()\n",
    "\n",
    "def to_float(x):\n",
    "    if type(x) == str and \",\" in x:\n",
    "        x = x.replace(\",\", \".\")\n",
    "        return float(x)\n",
    "    return x"
   ]
  },
  {
   "cell_type": "code",
   "execution_count": 2,
   "metadata": {},
   "outputs": [],
   "source": [
    "def clean_data(clean_guide):\n",
    "    filename = clean_guide[\"filename\"]\n",
    "    genesis_table = clean_guide[\"Table\"],\n",
    "    column_names = clean_guide[\"Columns\"]\n",
    "    column_names = column_names.split(\", \")\n",
    "    skiprows = clean_guide['Read Lines'][0] - 1\n",
    "    nrows = clean_guide['Read Lines'][1] - skiprows\n",
    "    na_values = clean_guide['NA']\n",
    "    to_translate = clean_guide[\"To Translate\"]\n",
    "\n",
    "    df = pd.read_csv(filename, sep=\";\", encoding=\"latin-1\", header=None, names=column_names, skiprows=skiprows, nrows=nrows, na_values=na_values)\n",
    "\n",
    "    # Convert to numeric\n",
    "    for col in column_names[clean_guide['to_numeric']:]:\n",
    "        df[col] = df[col].apply(lambda x: to_float(x))\n",
    "\n",
    "    if to_translate:\n",
    "        for k, v in to_translate.items():\n",
    "            if v: # can be optimized\n",
    "                unique_vals = list(df[k].unique())\n",
    "                translated_unique_vals = [translator.translate(x).text for x in unique_vals]\n",
    "                mappings = dict(zip(unique_vals, translated_unique_vals))\n",
    "                df[k] = df[k].apply(lambda x: mappings[x])\n",
    "                df[k] = df[k].str.title()\n",
    "            else:\n",
    "                df[k] = df[k].apply(lambda x: translator.translate(x).text)\n",
    "    \n",
    "    return df"
   ]
  },
  {
   "cell_type": "code",
   "execution_count": null,
   "metadata": {},
   "outputs": [],
   "source": [
    "d1 = {\n",
    "    \"filename\": \"Sales Packaging-companies-end consumers-federal states-years.csv\",\n",
    "    \"Table\": \"32136-0010\",\n",
    "    \"Columns\": \"Year, State, Company, Sales packaging. v. private end users (1000t), Sales packaging. v. private end use per inhabitant (kg)\",\n",
    "    \"Read Lines\": [7, 182],\n",
    "    \"To Translate\": {'State':1},\n",
    "    \"NA\": [\".\", \"-\", \"x\"],\n",
    "    \"to_numeric\": 2\n",
    "}\n",
    "d2 = {\n",
    "    \"filename\": \"Sales Packaging-companies-end consumers-years-return types.csv\",\n",
    "    \"Table\": \"32136-0002\",\n",
    "    \"Columns\": \"Year, Return Method, Unit, Sales Packaging After Sorting (Industrial Solutions), Sales Packaging After Sorting (System Operators), Overall Sales Packaging After Sorting\",\n",
    "    \"Read Lines\": [9, 63],\n",
    "    \"NA\": [\".\", \"x\", \"-\"],\n",
    "    \"To Translate\": {'Return Method': 0, 'Unit': 1},\n",
    "    \"to_numeric\": 3\n",
    "}\n",
    "d3 = {\n",
    "    \"filename\": \"Sales Packaging-companies-end consumers-years.csv\",\n",
    "    \"Table\": \"32136-0001\",\n",
    "    \"Columns\": \"KPI, Unit, 2010, 2011, 2012, 2013, 2014, 2015, 2016, 2017, 2018, 2019, 2020\",\n",
    "    \"Read Lines\": [8,12],\n",
    "    \"NA\": [\".\", \"-\", \"x\"],\n",
    "    \"To Translate\": {\"KPI\": 0},\n",
    "    \"to_numeric\": 2\n",
    "}\n",
    "d4 = {\n",
    "    \"filename\": \"Sales Packaging-end consumers-federal states-years-type of sales.csv\",\n",
    "    \"Table\": \"32136-0011\",\n",
    "    \"Columns\": \"Year, State, Mixed packaging, Packaging made of paper & cardboard & carton, Mixed glass (colored & mixed glass), Glass collected separately in color, Plastics collected separately, Metals collected separately, Composites collected separately, Total\",\n",
    "    \"Read Lines\": [8, 183],\n",
    "    \"NA\": [\".\", \"-\"],\n",
    "    \"To Translate\": {\"State\":1},\n",
    "    \"to_numeric\": 2\n",
    "}"
   ]
  }
 ],
 "metadata": {
  "kernelspec": {
   "display_name": "venv",
   "language": "python",
   "name": "python3"
  },
  "language_info": {
   "codemirror_mode": {
    "name": "ipython",
    "version": 3
   },
   "file_extension": ".py",
   "mimetype": "text/x-python",
   "name": "python",
   "nbconvert_exporter": "python",
   "pygments_lexer": "ipython3",
   "version": "3.10.9"
  },
  "orig_nbformat": 4
 },
 "nbformat": 4,
 "nbformat_minor": 2
}
