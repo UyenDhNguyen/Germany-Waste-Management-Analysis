{
 "cells": [
  {
   "cell_type": "code",
   "execution_count": 1,
   "metadata": {},
   "outputs": [],
   "source": [
    "import pandas as pd \n",
    "import numpy as np\n",
    "\n",
    "from googletrans import Translator\n",
    "translator = Translator()\n",
    "\n",
    "def to_float(x):\n",
    "    if type(x) == str and \",\" in x:\n",
    "        x = x.replace(\",\", \".\")\n",
    "        return float(x)\n",
    "    return x"
   ]
  },
  {
   "cell_type": "code",
   "execution_count": null,
   "metadata": {},
   "outputs": [],
   "source": [
    "d1 = {\n",
    "    \"filename\": \"Sales Packaging-companies-end consumers-federal states-years.csv\",\n",
    "    \"Table\": \"32136-0010\",\n",
    "    \"Columns\": \"Year, State, Company, Sales packaging. v. private end users (1000t), Sales packaging. v. private end use per inhabitant (kg)\",\n",
    "    \"Read Lines\": [7, 182],\n",
    "    \"To Translate\": {'State':1},\n",
    "    \"NA\": [\".\", \"-\", \"x\"],\n",
    "    \"to_numeric\": 2\n",
    "}\n",
    "\n",
    "d2 = "
   ]
  }
 ],
 "metadata": {
  "kernelspec": {
   "display_name": "venv",
   "language": "python",
   "name": "python3"
  },
  "language_info": {
   "codemirror_mode": {
    "name": "ipython",
    "version": 3
   },
   "file_extension": ".py",
   "mimetype": "text/x-python",
   "name": "python",
   "nbconvert_exporter": "python",
   "pygments_lexer": "ipython3",
   "version": "3.10.9"
  },
  "orig_nbformat": 4
 },
 "nbformat": 4,
 "nbformat_minor": 2
}
